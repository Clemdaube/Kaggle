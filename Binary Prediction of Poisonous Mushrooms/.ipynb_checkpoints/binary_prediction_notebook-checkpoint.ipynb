{
 "cells": [
  {
   "cell_type": "code",
   "execution_count": 1,
   "id": "cc0e867f",
   "metadata": {
    "_cell_guid": "b1076dfc-b9ad-4769-8c92-a6c4dae69d19",
    "_uuid": "8f2839f25d086af736a60e9eeb907d3b93b6e0e5",
    "execution": {
     "iopub.execute_input": "2024-08-28T23:49:20.155358Z",
     "iopub.status.busy": "2024-08-28T23:49:20.154266Z",
     "iopub.status.idle": "2024-08-28T23:49:20.824703Z",
     "shell.execute_reply": "2024-08-28T23:49:20.823616Z"
    },
    "papermill": {
     "duration": 0.681275,
     "end_time": "2024-08-28T23:49:20.827024",
     "exception": false,
     "start_time": "2024-08-28T23:49:20.145749",
     "status": "completed"
    },
    "tags": []
   },
   "outputs": [],
   "source": [
    "import numpy as np \n",
    "import pandas as pd \n",
    "import os\n",
    "import zipfile\n",
    "\n",
    "#Unzip the train and test files in the current directory\n",
    "for file in os.listdir():\n",
    "    if file.endswith(\".zip\"):\n",
    "        with zipfile.ZipFile(file, 'r') as zip_ref:\n",
    "            zip_ref.extractall()"
   ]
  },
  {
   "cell_type": "code",
   "execution_count": 2,
   "id": "9fd18cd3",
   "metadata": {
    "execution": {
     "iopub.execute_input": "2024-08-28T23:49:20.841329Z",
     "iopub.status.busy": "2024-08-28T23:49:20.840852Z",
     "iopub.status.idle": "2024-08-28T23:49:35.271176Z",
     "shell.execute_reply": "2024-08-28T23:49:35.269763Z"
    },
    "papermill": {
     "duration": 14.439946,
     "end_time": "2024-08-28T23:49:35.273535",
     "exception": false,
     "start_time": "2024-08-28T23:49:20.833589",
     "status": "completed"
    },
    "tags": []
   },
   "outputs": [
    {
     "name": "stdout",
     "output_type": "stream",
     "text": [
      "Requirement already satisfied: ucimlrepo in /home/deluxe/anaconda3/lib/python3.11/site-packages (0.0.7)\n",
      "Requirement already satisfied: pandas>=1.0.0 in /home/deluxe/anaconda3/lib/python3.11/site-packages (from ucimlrepo) (2.2.2)\n",
      "Requirement already satisfied: certifi>=2020.12.5 in /home/deluxe/anaconda3/lib/python3.11/site-packages (from ucimlrepo) (2024.2.2)\n",
      "Requirement already satisfied: numpy>=1.23.2 in /home/deluxe/anaconda3/lib/python3.11/site-packages (from pandas>=1.0.0->ucimlrepo) (1.26.4)\n",
      "Requirement already satisfied: python-dateutil>=2.8.2 in /home/deluxe/anaconda3/lib/python3.11/site-packages (from pandas>=1.0.0->ucimlrepo) (2.9.0)\n",
      "Requirement already satisfied: pytz>=2020.1 in /home/deluxe/anaconda3/lib/python3.11/site-packages (from pandas>=1.0.0->ucimlrepo) (2024.1)\n",
      "Requirement already satisfied: tzdata>=2022.7 in /home/deluxe/anaconda3/lib/python3.11/site-packages (from pandas>=1.0.0->ucimlrepo) (2024.1)\n",
      "Requirement already satisfied: six>=1.5 in /home/deluxe/anaconda3/lib/python3.11/site-packages (from python-dateutil>=2.8.2->pandas>=1.0.0->ucimlrepo) (1.16.0)\n",
      "Note: you may need to restart the kernel to use updated packages.\n"
     ]
    }
   ],
   "source": [
    "pip install ucimlrepo"
   ]
  },
  {
   "cell_type": "code",
   "execution_count": 3,
   "id": "6de773f4",
   "metadata": {},
   "outputs": [
    {
     "name": "stdout",
     "output_type": "stream",
     "text": [
      "Requirement already satisfied: xgboost in /home/deluxe/anaconda3/lib/python3.11/site-packages (2.1.2)\n",
      "Requirement already satisfied: numpy in /home/deluxe/anaconda3/lib/python3.11/site-packages (from xgboost) (1.26.4)\n",
      "Requirement already satisfied: nvidia-nccl-cu12 in /home/deluxe/anaconda3/lib/python3.11/site-packages (from xgboost) (2.23.4)\n",
      "Requirement already satisfied: scipy in /home/deluxe/anaconda3/lib/python3.11/site-packages (from xgboost) (1.13.0)\n",
      "Note: you may need to restart the kernel to use updated packages.\n"
     ]
    }
   ],
   "source": [
    "pip install xgboost"
   ]
  },
  {
   "cell_type": "code",
   "execution_count": 4,
   "id": "d67b0961",
   "metadata": {
    "execution": {
     "iopub.execute_input": "2024-08-28T23:49:35.289762Z",
     "iopub.status.busy": "2024-08-28T23:49:35.288857Z",
     "iopub.status.idle": "2024-08-28T23:49:37.125191Z",
     "shell.execute_reply": "2024-08-28T23:49:37.124357Z"
    },
    "papermill": {
     "duration": 1.846964,
     "end_time": "2024-08-28T23:49:37.127613",
     "exception": false,
     "start_time": "2024-08-28T23:49:35.280649",
     "status": "completed"
    },
    "tags": []
   },
   "outputs": [],
   "source": [
    "import matplotlib.pyplot as plt\n",
    "import seaborn as sns\n",
    "import re\n",
    "import warnings\n",
    "from ucimlrepo import fetch_ucirepo\n",
    "import xgboost as xgb\n",
    "from sklearn.preprocessing import LabelEncoder\n",
    "from sklearn.model_selection import KFold, cross_val_score\n",
    "warnings.filterwarnings('ignore')\n",
    "#pd.options.display.max_rows = None"
   ]
  },
  {
   "cell_type": "code",
   "execution_count": 5,
   "id": "7a8e2d7d",
   "metadata": {
    "execution": {
     "iopub.execute_input": "2024-08-28T23:49:37.143542Z",
     "iopub.status.busy": "2024-08-28T23:49:37.142543Z",
     "iopub.status.idle": "2024-08-28T23:49:46.254823Z",
     "shell.execute_reply": "2024-08-28T23:49:46.253728Z"
    },
    "papermill": {
     "duration": 9.122443,
     "end_time": "2024-08-28T23:49:46.257099",
     "exception": false,
     "start_time": "2024-08-28T23:49:37.134656",
     "status": "completed"
    },
    "tags": []
   },
   "outputs": [
    {
     "data": {
      "text/html": [
       "<div>\n",
       "<style scoped>\n",
       "    .dataframe tbody tr th:only-of-type {\n",
       "        vertical-align: middle;\n",
       "    }\n",
       "\n",
       "    .dataframe tbody tr th {\n",
       "        vertical-align: top;\n",
       "    }\n",
       "\n",
       "    .dataframe thead th {\n",
       "        text-align: right;\n",
       "    }\n",
       "</style>\n",
       "<table border=\"1\" class=\"dataframe\">\n",
       "  <thead>\n",
       "    <tr style=\"text-align: right;\">\n",
       "      <th></th>\n",
       "      <th>id</th>\n",
       "      <th>class</th>\n",
       "      <th>cap-diameter</th>\n",
       "      <th>cap-shape</th>\n",
       "      <th>cap-surface</th>\n",
       "      <th>cap-color</th>\n",
       "      <th>does-bruise-or-bleed</th>\n",
       "      <th>gill-attachment</th>\n",
       "      <th>gill-spacing</th>\n",
       "      <th>gill-color</th>\n",
       "      <th>...</th>\n",
       "      <th>stem-root</th>\n",
       "      <th>stem-surface</th>\n",
       "      <th>stem-color</th>\n",
       "      <th>veil-type</th>\n",
       "      <th>veil-color</th>\n",
       "      <th>has-ring</th>\n",
       "      <th>ring-type</th>\n",
       "      <th>spore-print-color</th>\n",
       "      <th>habitat</th>\n",
       "      <th>season</th>\n",
       "    </tr>\n",
       "  </thead>\n",
       "  <tbody>\n",
       "    <tr>\n",
       "      <th>0</th>\n",
       "      <td>0</td>\n",
       "      <td>e</td>\n",
       "      <td>8.80</td>\n",
       "      <td>f</td>\n",
       "      <td>s</td>\n",
       "      <td>u</td>\n",
       "      <td>f</td>\n",
       "      <td>a</td>\n",
       "      <td>c</td>\n",
       "      <td>w</td>\n",
       "      <td>...</td>\n",
       "      <td>NaN</td>\n",
       "      <td>NaN</td>\n",
       "      <td>w</td>\n",
       "      <td>NaN</td>\n",
       "      <td>NaN</td>\n",
       "      <td>f</td>\n",
       "      <td>f</td>\n",
       "      <td>NaN</td>\n",
       "      <td>d</td>\n",
       "      <td>a</td>\n",
       "    </tr>\n",
       "    <tr>\n",
       "      <th>1</th>\n",
       "      <td>1</td>\n",
       "      <td>p</td>\n",
       "      <td>4.51</td>\n",
       "      <td>x</td>\n",
       "      <td>h</td>\n",
       "      <td>o</td>\n",
       "      <td>f</td>\n",
       "      <td>a</td>\n",
       "      <td>c</td>\n",
       "      <td>n</td>\n",
       "      <td>...</td>\n",
       "      <td>NaN</td>\n",
       "      <td>y</td>\n",
       "      <td>o</td>\n",
       "      <td>NaN</td>\n",
       "      <td>NaN</td>\n",
       "      <td>t</td>\n",
       "      <td>z</td>\n",
       "      <td>NaN</td>\n",
       "      <td>d</td>\n",
       "      <td>w</td>\n",
       "    </tr>\n",
       "    <tr>\n",
       "      <th>2</th>\n",
       "      <td>2</td>\n",
       "      <td>e</td>\n",
       "      <td>6.94</td>\n",
       "      <td>f</td>\n",
       "      <td>s</td>\n",
       "      <td>b</td>\n",
       "      <td>f</td>\n",
       "      <td>x</td>\n",
       "      <td>c</td>\n",
       "      <td>w</td>\n",
       "      <td>...</td>\n",
       "      <td>NaN</td>\n",
       "      <td>s</td>\n",
       "      <td>n</td>\n",
       "      <td>NaN</td>\n",
       "      <td>NaN</td>\n",
       "      <td>f</td>\n",
       "      <td>f</td>\n",
       "      <td>NaN</td>\n",
       "      <td>l</td>\n",
       "      <td>w</td>\n",
       "    </tr>\n",
       "    <tr>\n",
       "      <th>3</th>\n",
       "      <td>3</td>\n",
       "      <td>e</td>\n",
       "      <td>3.88</td>\n",
       "      <td>f</td>\n",
       "      <td>y</td>\n",
       "      <td>g</td>\n",
       "      <td>f</td>\n",
       "      <td>s</td>\n",
       "      <td>NaN</td>\n",
       "      <td>g</td>\n",
       "      <td>...</td>\n",
       "      <td>NaN</td>\n",
       "      <td>NaN</td>\n",
       "      <td>w</td>\n",
       "      <td>NaN</td>\n",
       "      <td>NaN</td>\n",
       "      <td>f</td>\n",
       "      <td>f</td>\n",
       "      <td>NaN</td>\n",
       "      <td>d</td>\n",
       "      <td>u</td>\n",
       "    </tr>\n",
       "    <tr>\n",
       "      <th>4</th>\n",
       "      <td>4</td>\n",
       "      <td>e</td>\n",
       "      <td>5.85</td>\n",
       "      <td>x</td>\n",
       "      <td>l</td>\n",
       "      <td>w</td>\n",
       "      <td>f</td>\n",
       "      <td>d</td>\n",
       "      <td>NaN</td>\n",
       "      <td>w</td>\n",
       "      <td>...</td>\n",
       "      <td>NaN</td>\n",
       "      <td>NaN</td>\n",
       "      <td>w</td>\n",
       "      <td>NaN</td>\n",
       "      <td>NaN</td>\n",
       "      <td>f</td>\n",
       "      <td>f</td>\n",
       "      <td>NaN</td>\n",
       "      <td>g</td>\n",
       "      <td>a</td>\n",
       "    </tr>\n",
       "  </tbody>\n",
       "</table>\n",
       "<p>5 rows × 22 columns</p>\n",
       "</div>"
      ],
      "text/plain": [
       "   id class  cap-diameter cap-shape cap-surface cap-color  \\\n",
       "0   0     e          8.80         f           s         u   \n",
       "1   1     p          4.51         x           h         o   \n",
       "2   2     e          6.94         f           s         b   \n",
       "3   3     e          3.88         f           y         g   \n",
       "4   4     e          5.85         x           l         w   \n",
       "\n",
       "  does-bruise-or-bleed gill-attachment gill-spacing gill-color  ...  \\\n",
       "0                    f               a            c          w  ...   \n",
       "1                    f               a            c          n  ...   \n",
       "2                    f               x            c          w  ...   \n",
       "3                    f               s          NaN          g  ...   \n",
       "4                    f               d          NaN          w  ...   \n",
       "\n",
       "   stem-root  stem-surface stem-color veil-type veil-color has-ring ring-type  \\\n",
       "0        NaN           NaN          w       NaN        NaN        f         f   \n",
       "1        NaN             y          o       NaN        NaN        t         z   \n",
       "2        NaN             s          n       NaN        NaN        f         f   \n",
       "3        NaN           NaN          w       NaN        NaN        f         f   \n",
       "4        NaN           NaN          w       NaN        NaN        f         f   \n",
       "\n",
       "  spore-print-color habitat season  \n",
       "0               NaN       d      a  \n",
       "1               NaN       d      w  \n",
       "2               NaN       l      w  \n",
       "3               NaN       d      u  \n",
       "4               NaN       g      a  \n",
       "\n",
       "[5 rows x 22 columns]"
      ]
     },
     "execution_count": 5,
     "metadata": {},
     "output_type": "execute_result"
    }
   ],
   "source": [
    "train_df = pd.read_csv(\"train.csv\", header=0)\n",
    "train_df.head()"
   ]
  },
  {
   "cell_type": "code",
   "execution_count": 6,
   "id": "fec6783f",
   "metadata": {
    "execution": {
     "iopub.execute_input": "2024-08-28T23:49:46.273537Z",
     "iopub.status.busy": "2024-08-28T23:49:46.272675Z",
     "iopub.status.idle": "2024-08-28T23:49:46.293008Z",
     "shell.execute_reply": "2024-08-28T23:49:46.291454Z"
    },
    "papermill": {
     "duration": 0.030926,
     "end_time": "2024-08-28T23:49:46.295400",
     "exception": false,
     "start_time": "2024-08-28T23:49:46.264474",
     "status": "completed"
    },
    "tags": []
   },
   "outputs": [
    {
     "name": "stdout",
     "output_type": "stream",
     "text": [
      "<class 'pandas.core.frame.DataFrame'>\n",
      "RangeIndex: 3116945 entries, 0 to 3116944\n",
      "Data columns (total 22 columns):\n",
      " #   Column                Dtype  \n",
      "---  ------                -----  \n",
      " 0   id                    int64  \n",
      " 1   class                 object \n",
      " 2   cap-diameter          float64\n",
      " 3   cap-shape             object \n",
      " 4   cap-surface           object \n",
      " 5   cap-color             object \n",
      " 6   does-bruise-or-bleed  object \n",
      " 7   gill-attachment       object \n",
      " 8   gill-spacing          object \n",
      " 9   gill-color            object \n",
      " 10  stem-height           float64\n",
      " 11  stem-width            float64\n",
      " 12  stem-root             object \n",
      " 13  stem-surface          object \n",
      " 14  stem-color            object \n",
      " 15  veil-type             object \n",
      " 16  veil-color            object \n",
      " 17  has-ring              object \n",
      " 18  ring-type             object \n",
      " 19  spore-print-color     object \n",
      " 20  habitat               object \n",
      " 21  season                object \n",
      "dtypes: float64(3), int64(1), object(18)\n",
      "memory usage: 523.2+ MB\n"
     ]
    }
   ],
   "source": [
    "train_df.info()"
   ]
  },
  {
   "cell_type": "code",
   "execution_count": 7,
   "id": "03e1118d",
   "metadata": {
    "execution": {
     "iopub.execute_input": "2024-08-28T23:49:46.312568Z",
     "iopub.status.busy": "2024-08-28T23:49:46.311715Z",
     "iopub.status.idle": "2024-08-28T23:49:51.736084Z",
     "shell.execute_reply": "2024-08-28T23:49:51.735074Z"
    },
    "papermill": {
     "duration": 5.434663,
     "end_time": "2024-08-28T23:49:51.738263",
     "exception": false,
     "start_time": "2024-08-28T23:49:46.303600",
     "status": "completed"
    },
    "tags": []
   },
   "outputs": [
    {
     "data": {
      "text/html": [
       "<div>\n",
       "<style scoped>\n",
       "    .dataframe tbody tr th:only-of-type {\n",
       "        vertical-align: middle;\n",
       "    }\n",
       "\n",
       "    .dataframe tbody tr th {\n",
       "        vertical-align: top;\n",
       "    }\n",
       "\n",
       "    .dataframe thead th {\n",
       "        text-align: right;\n",
       "    }\n",
       "</style>\n",
       "<table border=\"1\" class=\"dataframe\">\n",
       "  <thead>\n",
       "    <tr style=\"text-align: right;\">\n",
       "      <th></th>\n",
       "      <th>id</th>\n",
       "      <th>cap-diameter</th>\n",
       "      <th>cap-shape</th>\n",
       "      <th>cap-surface</th>\n",
       "      <th>cap-color</th>\n",
       "      <th>does-bruise-or-bleed</th>\n",
       "      <th>gill-attachment</th>\n",
       "      <th>gill-spacing</th>\n",
       "      <th>gill-color</th>\n",
       "      <th>stem-height</th>\n",
       "      <th>...</th>\n",
       "      <th>stem-root</th>\n",
       "      <th>stem-surface</th>\n",
       "      <th>stem-color</th>\n",
       "      <th>veil-type</th>\n",
       "      <th>veil-color</th>\n",
       "      <th>has-ring</th>\n",
       "      <th>ring-type</th>\n",
       "      <th>spore-print-color</th>\n",
       "      <th>habitat</th>\n",
       "      <th>season</th>\n",
       "    </tr>\n",
       "  </thead>\n",
       "  <tbody>\n",
       "    <tr>\n",
       "      <th>0</th>\n",
       "      <td>3116945</td>\n",
       "      <td>8.64</td>\n",
       "      <td>x</td>\n",
       "      <td>NaN</td>\n",
       "      <td>n</td>\n",
       "      <td>t</td>\n",
       "      <td>NaN</td>\n",
       "      <td>NaN</td>\n",
       "      <td>w</td>\n",
       "      <td>11.13</td>\n",
       "      <td>...</td>\n",
       "      <td>b</td>\n",
       "      <td>NaN</td>\n",
       "      <td>w</td>\n",
       "      <td>u</td>\n",
       "      <td>w</td>\n",
       "      <td>t</td>\n",
       "      <td>g</td>\n",
       "      <td>NaN</td>\n",
       "      <td>d</td>\n",
       "      <td>a</td>\n",
       "    </tr>\n",
       "    <tr>\n",
       "      <th>1</th>\n",
       "      <td>3116946</td>\n",
       "      <td>6.90</td>\n",
       "      <td>o</td>\n",
       "      <td>t</td>\n",
       "      <td>o</td>\n",
       "      <td>f</td>\n",
       "      <td>NaN</td>\n",
       "      <td>c</td>\n",
       "      <td>y</td>\n",
       "      <td>1.27</td>\n",
       "      <td>...</td>\n",
       "      <td>NaN</td>\n",
       "      <td>NaN</td>\n",
       "      <td>n</td>\n",
       "      <td>NaN</td>\n",
       "      <td>NaN</td>\n",
       "      <td>f</td>\n",
       "      <td>f</td>\n",
       "      <td>NaN</td>\n",
       "      <td>d</td>\n",
       "      <td>a</td>\n",
       "    </tr>\n",
       "    <tr>\n",
       "      <th>2</th>\n",
       "      <td>3116947</td>\n",
       "      <td>2.00</td>\n",
       "      <td>b</td>\n",
       "      <td>g</td>\n",
       "      <td>n</td>\n",
       "      <td>f</td>\n",
       "      <td>NaN</td>\n",
       "      <td>c</td>\n",
       "      <td>n</td>\n",
       "      <td>6.18</td>\n",
       "      <td>...</td>\n",
       "      <td>NaN</td>\n",
       "      <td>NaN</td>\n",
       "      <td>n</td>\n",
       "      <td>NaN</td>\n",
       "      <td>NaN</td>\n",
       "      <td>f</td>\n",
       "      <td>f</td>\n",
       "      <td>NaN</td>\n",
       "      <td>d</td>\n",
       "      <td>s</td>\n",
       "    </tr>\n",
       "    <tr>\n",
       "      <th>3</th>\n",
       "      <td>3116948</td>\n",
       "      <td>3.47</td>\n",
       "      <td>x</td>\n",
       "      <td>t</td>\n",
       "      <td>n</td>\n",
       "      <td>f</td>\n",
       "      <td>s</td>\n",
       "      <td>c</td>\n",
       "      <td>n</td>\n",
       "      <td>4.98</td>\n",
       "      <td>...</td>\n",
       "      <td>NaN</td>\n",
       "      <td>NaN</td>\n",
       "      <td>w</td>\n",
       "      <td>NaN</td>\n",
       "      <td>n</td>\n",
       "      <td>t</td>\n",
       "      <td>z</td>\n",
       "      <td>NaN</td>\n",
       "      <td>d</td>\n",
       "      <td>u</td>\n",
       "    </tr>\n",
       "    <tr>\n",
       "      <th>4</th>\n",
       "      <td>3116949</td>\n",
       "      <td>6.17</td>\n",
       "      <td>x</td>\n",
       "      <td>h</td>\n",
       "      <td>y</td>\n",
       "      <td>f</td>\n",
       "      <td>p</td>\n",
       "      <td>NaN</td>\n",
       "      <td>y</td>\n",
       "      <td>6.73</td>\n",
       "      <td>...</td>\n",
       "      <td>NaN</td>\n",
       "      <td>NaN</td>\n",
       "      <td>y</td>\n",
       "      <td>NaN</td>\n",
       "      <td>y</td>\n",
       "      <td>t</td>\n",
       "      <td>NaN</td>\n",
       "      <td>NaN</td>\n",
       "      <td>d</td>\n",
       "      <td>u</td>\n",
       "    </tr>\n",
       "  </tbody>\n",
       "</table>\n",
       "<p>5 rows × 21 columns</p>\n",
       "</div>"
      ],
      "text/plain": [
       "        id  cap-diameter cap-shape cap-surface cap-color does-bruise-or-bleed  \\\n",
       "0  3116945          8.64         x         NaN         n                    t   \n",
       "1  3116946          6.90         o           t         o                    f   \n",
       "2  3116947          2.00         b           g         n                    f   \n",
       "3  3116948          3.47         x           t         n                    f   \n",
       "4  3116949          6.17         x           h         y                    f   \n",
       "\n",
       "  gill-attachment gill-spacing gill-color  stem-height  ...  stem-root  \\\n",
       "0             NaN          NaN          w        11.13  ...          b   \n",
       "1             NaN            c          y         1.27  ...        NaN   \n",
       "2             NaN            c          n         6.18  ...        NaN   \n",
       "3               s            c          n         4.98  ...        NaN   \n",
       "4               p          NaN          y         6.73  ...        NaN   \n",
       "\n",
       "  stem-surface stem-color veil-type veil-color has-ring ring-type  \\\n",
       "0          NaN          w         u          w        t         g   \n",
       "1          NaN          n       NaN        NaN        f         f   \n",
       "2          NaN          n       NaN        NaN        f         f   \n",
       "3          NaN          w       NaN          n        t         z   \n",
       "4          NaN          y       NaN          y        t       NaN   \n",
       "\n",
       "  spore-print-color habitat season  \n",
       "0               NaN       d      a  \n",
       "1               NaN       d      a  \n",
       "2               NaN       d      s  \n",
       "3               NaN       d      u  \n",
       "4               NaN       d      u  \n",
       "\n",
       "[5 rows x 21 columns]"
      ]
     },
     "execution_count": 7,
     "metadata": {},
     "output_type": "execute_result"
    }
   ],
   "source": [
    "test_df = pd.read_csv(\"test.csv\", header=0)\n",
    "test_df.head()"
   ]
  },
  {
   "cell_type": "code",
   "execution_count": 8,
   "id": "5a77d57e",
   "metadata": {
    "execution": {
     "iopub.execute_input": "2024-08-28T23:49:51.755255Z",
     "iopub.status.busy": "2024-08-28T23:49:51.754908Z",
     "iopub.status.idle": "2024-08-28T23:49:56.689453Z",
     "shell.execute_reply": "2024-08-28T23:49:56.688523Z"
    },
    "papermill": {
     "duration": 4.945751,
     "end_time": "2024-08-28T23:49:56.692119",
     "exception": false,
     "start_time": "2024-08-28T23:49:51.746368",
     "status": "completed"
    },
    "tags": []
   },
   "outputs": [
    {
     "data": {
      "image/png": "[encoded data removed]",
      "text/plain": [
       "<Figure size 640x480 with 1 Axes>"
      ]
     },
     "metadata": {},
     "output_type": "display_data"
    }
   ],
   "source": [
    "#Check the missing values across the table\n",
    "plt.bar(train_df.isna().sum().index, train_df.isna().sum().values)\n",
    "plt.xlabel('Columns')\n",
    "plt.xticks(rotation=45, ha='right')\n",
    "plt.ylabel('Number of NA values')\n",
    "plt.show()"
   ]
  },
  {
   "cell_type": "code",
   "execution_count": 9,
   "id": "330d3d74",
   "metadata": {
    "execution": {
     "iopub.execute_input": "2024-08-28T23:49:56.710227Z",
     "iopub.status.busy": "2024-08-28T23:49:56.709895Z",
     "iopub.status.idle": "2024-08-28T23:49:59.000606Z",
     "shell.execute_reply": "2024-08-28T23:49:58.999623Z"
    },
    "papermill": {
     "duration": 2.302153,
     "end_time": "2024-08-28T23:49:59.002946",
     "exception": false,
     "start_time": "2024-08-28T23:49:56.700793",
     "status": "completed"
    },
    "tags": []
   },
   "outputs": [
    {
     "data": {
      "text/plain": [
       "id                            0\n",
       "class                         0\n",
       "cap-diameter                  4\n",
       "cap-shape                    40\n",
       "cap-surface              671023\n",
       "cap-color                    12\n",
       "does-bruise-or-bleed          8\n",
       "gill-attachment          523936\n",
       "gill-spacing            1258435\n",
       "gill-color                   57\n",
       "stem-height                   0\n",
       "stem-width                    0\n",
       "stem-root               2757023\n",
       "stem-surface            1980861\n",
       "stem-color                   38\n",
       "veil-type               2957493\n",
       "veil-color              2740947\n",
       "has-ring                     24\n",
       "ring-type                128880\n",
       "spore-print-color       2849682\n",
       "habitat                      45\n",
       "season                        0\n",
       "dtype: int64"
      ]
     },
     "execution_count": 9,
     "metadata": {},
     "output_type": "execute_result"
    }
   ],
   "source": [
    "train_df.isna().sum()"
   ]
  },
  {
   "cell_type": "code",
   "execution_count": 10,
   "id": "bf2f346f",
   "metadata": {
    "execution": {
     "iopub.execute_input": "2024-08-28T23:49:59.021635Z",
     "iopub.status.busy": "2024-08-28T23:49:59.020964Z",
     "iopub.status.idle": "2024-08-28T23:49:59.330828Z",
     "shell.execute_reply": "2024-08-28T23:49:59.329872Z"
    },
    "papermill": {
     "duration": 0.321403,
     "end_time": "2024-08-28T23:49:59.332968",
     "exception": false,
     "start_time": "2024-08-28T23:49:59.011565",
     "status": "completed"
    },
    "tags": []
   },
   "outputs": [
    {
     "data": {
      "image/png": "[encoded data removed]",
      "text/plain": [
       "<Figure size 640x480 with 1 Axes>"
      ]
     },
     "metadata": {},
     "output_type": "display_data"
    }
   ],
   "source": [
    "#Check the 'cap-diameter' distribution\n",
    "plt.hist(train_df['cap-diameter'].dropna(), bins=20)\n",
    "plt.title('Diameter Distribution')\n",
    "plt.xlabel('Diameter')\n",
    "plt.ylabel('Frequency')\n",
    "plt.show()"
   ]
  },
  {
   "cell_type": "code",
   "execution_count": 11,
   "id": "393d8c19",
   "metadata": {
    "execution": {
     "iopub.execute_input": "2024-08-28T23:49:59.352508Z",
     "iopub.status.busy": "2024-08-28T23:49:59.351887Z",
     "iopub.status.idle": "2024-08-28T23:49:59.443169Z",
     "shell.execute_reply": "2024-08-28T23:49:59.442335Z"
    },
    "papermill": {
     "duration": 0.103671,
     "end_time": "2024-08-28T23:49:59.445611",
     "exception": false,
     "start_time": "2024-08-28T23:49:59.341940",
     "status": "completed"
    },
    "tags": []
   },
   "outputs": [],
   "source": [
    "#Distribution skewed so we'll use the median to fill the NA values\n",
    "train_df['cap-diameter'] = train_df['cap-diameter'].fillna(train_df['cap-diameter'].median())"
   ]
  },
  {
   "cell_type": "code",
   "execution_count": 12,
   "id": "cea1c93b",
   "metadata": {
    "execution": {
     "iopub.execute_input": "2024-08-28T23:49:59.465020Z",
     "iopub.status.busy": "2024-08-28T23:49:59.464246Z",
     "iopub.status.idle": "2024-08-28T23:51:49.339100Z",
     "shell.execute_reply": "2024-08-28T23:51:49.337934Z"
    },
    "papermill": {
     "duration": 109.887271,
     "end_time": "2024-08-28T23:51:49.341835",
     "exception": false,
     "start_time": "2024-08-28T23:49:59.454564",
     "status": "completed"
    },
    "tags": []
   },
   "outputs": [],
   "source": [
    "#Loop through all object columns\n",
    "for col in train_df.select_dtypes(include=['object']).columns:\n",
    "    #Step 1: remove any words followed by a space and keep only the letter\n",
    "    train_df[col] = train_df[col].replace(r'^\\w+\\s([a-z])$', r'\\1', regex=True)\n",
    "\n",
    "    #Step 2: replace any value that is not a single letter with NaN\n",
    "    train_df[col] = train_df[col].where(train_df[col].str.match(r'^[a-z]$'), np.nan)"
   ]
  },
  {
   "cell_type": "code",
   "execution_count": 13,
   "id": "5e6e8ef2",
   "metadata": {
    "execution": {
     "iopub.execute_input": "2024-08-28T23:51:49.362173Z",
     "iopub.status.busy": "2024-08-28T23:51:49.361324Z",
     "iopub.status.idle": "2024-08-28T23:51:49.381929Z",
     "shell.execute_reply": "2024-08-28T23:51:49.380886Z"
    },
    "papermill": {
     "duration": 0.033172,
     "end_time": "2024-08-28T23:51:49.384359",
     "exception": false,
     "start_time": "2024-08-28T23:51:49.351187",
     "status": "completed"
    },
    "tags": []
   },
   "outputs": [],
   "source": [
    "#Adding 'stem-volume' to the dataframe because volume = (width/2)*height\n",
    "train_df['stem-volume'] = train_df['stem-height']*(train_df['stem-width']/2)"
   ]
  },
  {
   "cell_type": "code",
   "execution_count": 14,
   "id": "9c2d856b",
   "metadata": {
    "execution": {
     "iopub.execute_input": "2024-08-28T23:51:49.404460Z",
     "iopub.status.busy": "2024-08-28T23:51:49.403793Z",
     "iopub.status.idle": "2024-08-28T23:51:51.706971Z",
     "shell.execute_reply": "2024-08-28T23:51:51.705968Z"
    },
    "papermill": {
     "duration": 2.315555,
     "end_time": "2024-08-28T23:51:51.709136",
     "exception": false,
     "start_time": "2024-08-28T23:51:49.393581",
     "status": "completed"
    },
    "tags": []
   },
   "outputs": [
    {
     "data": {
      "text/plain": [
       "id                            0\n",
       "class                         0\n",
       "cap-diameter                  0\n",
       "cap-shape                    87\n",
       "cap-surface              671088\n",
       "cap-color                    83\n",
       "does-bruise-or-bleed         12\n",
       "gill-attachment          523990\n",
       "gill-spacing            1258465\n",
       "gill-color                  120\n",
       "stem-height                   0\n",
       "stem-width                    0\n",
       "stem-root               2757038\n",
       "stem-surface            1980906\n",
       "stem-color                   75\n",
       "veil-type               2957496\n",
       "veil-color              2740950\n",
       "has-ring                     26\n",
       "ring-type                128904\n",
       "spore-print-color       2849693\n",
       "habitat                      81\n",
       "season                        0\n",
       "stem-volume                   0\n",
       "dtype: int64"
      ]
     },
     "execution_count": 14,
     "metadata": {},
     "output_type": "execute_result"
    }
   ],
   "source": [
    "train_df.isna().sum()"
   ]
  },
  {
   "cell_type": "code",
   "execution_count": 15,
   "id": "ebd69ad4",
   "metadata": {
    "execution": {
     "iopub.execute_input": "2024-08-28T23:51:51.729474Z",
     "iopub.status.busy": "2024-08-28T23:51:51.728529Z",
     "iopub.status.idle": "2024-08-28T23:51:53.455997Z",
     "shell.execute_reply": "2024-08-28T23:51:53.454796Z"
    },
    "papermill": {
     "duration": 1.739814,
     "end_time": "2024-08-28T23:51:53.458340",
     "exception": false,
     "start_time": "2024-08-28T23:51:51.718526",
     "status": "completed"
    },
    "tags": []
   },
   "outputs": [
    {
     "data": {
      "image/png": "[encoded data removed]",
      "text/plain": [
       "<Figure size 640x480 with 1 Axes>"
      ]
     },
     "metadata": {},
     "output_type": "display_data"
    }
   ],
   "source": [
    "#Boxplot to check the potential correlation between a numeric feature & a categorical feature\n",
    "sns.boxplot(x='season', y='cap-diameter', data=train_df)\n",
    "plt.title('Boxplot of Diameter by Color')\n",
    "plt.show()"
   ]
  },
  {
   "cell_type": "code",
   "execution_count": 29,
   "id": "56ab5ab6",
   "metadata": {
    "execution": {
     "iopub.execute_input": "2024-08-28T23:51:53.480805Z",
     "iopub.status.busy": "2024-08-28T23:51:53.479656Z",
     "iopub.status.idle": "2024-08-28T23:51:54.589339Z",
     "shell.execute_reply": "2024-08-28T23:51:54.588175Z"
    },
    "papermill": {
     "duration": 1.12357,
     "end_time": "2024-08-28T23:51:54.591844",
     "exception": false,
     "start_time": "2024-08-28T23:51:53.468274",
     "status": "completed"
    },
    "tags": []
   },
   "outputs": [
    {
     "name": "stdout",
     "output_type": "stream",
     "text": [
      "season         a      s       u       w\n",
      "habitat                                \n",
      "a             20      2       9       3\n",
      "b              8      1       8       1\n",
      "c              7      2      15       2\n",
      "d        1099600  93535  780319  204119\n",
      "e             33      2      18       2\n",
      "f              5      1       3       2\n",
      "g         210833  18008  196675   29392\n",
      "h          65311   3384   51126     317\n",
      "i              5      0       2       0\n",
      "k             14      1      16       0\n",
      "l          82156  12462   49129   28145\n",
      "m          66525  12987   56805   14652\n",
      "n             18      2      20       1\n",
      "o              5      0       7       0\n",
      "p           7491    192    9437      60\n",
      "r             16      1      20       1\n",
      "s             16      5      26       5\n",
      "t             23      0      16       1\n",
      "u           1482   1222    1181    1379\n",
      "w           9686     35    8709     101\n",
      "x              3      1       0       1\n",
      "y             18      0      16       0\n",
      "z              3      1       1       0\n"
     ]
    },
    {
     "data": {
      "image/png": "[encoded data removed]",
      "text/plain": [
       "<Figure size 640x480 with 1 Axes>"
      ]
     },
     "metadata": {},
     "output_type": "display_data"
    }
   ],
   "source": [
    "#Contingency table to check the potential correlation between two categorical features\n",
    "contingency_table = pd.crosstab(train_df['habitat'], train_df['season'])\n",
    "contingency_table.plot(kind='bar', stacked=True)\n",
    "print(contingency_table)\n",
    "#Use a graph to visualize the potential correlation\n",
    "plt.title('Stacked Bar Plot of Feature1 vs Feature2')\n",
    "plt.xlabel('Feature1')\n",
    "plt.ylabel('Count')\n",
    "plt.show()"
   ]
  },
  {
   "cell_type": "code",
   "execution_count": 17,
   "id": "73243537",
   "metadata": {
    "execution": {
     "iopub.execute_input": "2024-08-28T23:51:54.614150Z",
     "iopub.status.busy": "2024-08-28T23:51:54.613779Z",
     "iopub.status.idle": "2024-08-28T23:51:55.431081Z",
     "shell.execute_reply": "2024-08-28T23:51:55.430142Z"
    },
    "papermill": {
     "duration": 0.831122,
     "end_time": "2024-08-28T23:51:55.433515",
     "exception": false,
     "start_time": "2024-08-28T23:51:54.602393",
     "status": "completed"
    },
    "tags": []
   },
   "outputs": [],
   "source": [
    "#Use the mode to fill NA values for 'cap-shape'\n",
    "fill_NA = train_df['cap-shape'].mode()[0]\n",
    "train_df['cap-shape'] = train_df['cap-shape'].fillna(fill_NA)\n",
    "\n",
    "#Use the mode to fill values for 'cap-color'\n",
    "fill_NA = train_df['cap-color'].mode()[0]\n",
    "train_df['cap-color'] = train_df['cap-color'].fillna(fill_NA)\n",
    "\n",
    "#This question can be answered by true or false only so we're gonna keep 't' or 'f', rest is gonna become NAs\n",
    "#train_df['does-bruise-or-bleed'] = train_df['does-bruise-or-bleed'].replace(r'[^ft]', np.nan, regex=True)\n",
    "#NOT USEFUL"
   ]
  },
  {
   "cell_type": "code",
   "execution_count": 18,
   "id": "f7670652",
   "metadata": {
    "execution": {
     "iopub.execute_input": "2024-08-28T23:51:55.455839Z",
     "iopub.status.busy": "2024-08-28T23:51:55.454945Z",
     "iopub.status.idle": "2024-08-28T23:51:57.131627Z",
     "shell.execute_reply": "2024-08-28T23:51:57.129977Z"
    },
    "papermill": {
     "duration": 1.690139,
     "end_time": "2024-08-28T23:51:57.134034",
     "exception": false,
     "start_time": "2024-08-28T23:51:55.443895",
     "status": "completed"
    },
    "tags": []
   },
   "outputs": [
    {
     "name": "stdout",
     "output_type": "stream",
     "text": [
      "<class 'pandas.core.frame.DataFrame'>\n",
      "RangeIndex: 8124 entries, 0 to 8123\n",
      "Data columns (total 22 columns):\n",
      " #   Column                    Non-Null Count  Dtype \n",
      "---  ------                    --------------  ----- \n",
      " 0   cap-shape                 8124 non-null   object\n",
      " 1   cap-surface               8124 non-null   object\n",
      " 2   cap-color                 8124 non-null   object\n",
      " 3   bruises                   8124 non-null   object\n",
      " 4   odor                      8124 non-null   object\n",
      " 5   gill-attachment           8124 non-null   object\n",
      " 6   gill-spacing              8124 non-null   object\n",
      " 7   gill-size                 8124 non-null   object\n",
      " 8   gill-color                8124 non-null   object\n",
      " 9   stalk-shape               8124 non-null   object\n",
      " 10  stalk-root                5644 non-null   object\n",
      " 11  stalk-surface-above-ring  8124 non-null   object\n",
      " 12  stalk-surface-below-ring  8124 non-null   object\n",
      " 13  stalk-color-above-ring    8124 non-null   object\n",
      " 14  stalk-color-below-ring    8124 non-null   object\n",
      " 15  veil-type                 8124 non-null   object\n",
      " 16  veil-color                8124 non-null   object\n",
      " 17  ring-number               8124 non-null   object\n",
      " 18  ring-type                 8124 non-null   object\n",
      " 19  spore-print-color         8124 non-null   object\n",
      " 20  population                8124 non-null   object\n",
      " 21  habitat                   8124 non-null   object\n",
      "dtypes: object(22)\n",
      "memory usage: 1.4+ MB\n"
     ]
    }
   ],
   "source": [
    "#Introducting the inspiration dataset for this playground series to get more training data\n",
    "mushroom = fetch_ucirepo(id=73)\n",
    "mush_X = mushroom.data.features\n",
    "mush_Y = mushroom.data.targets\n",
    "mush_X.info()"
   ]
  },
  {
   "cell_type": "code",
   "execution_count": 19,
   "id": "41ae94d6",
   "metadata": {
    "execution": {
     "iopub.execute_input": "2024-08-28T23:51:57.156907Z",
     "iopub.status.busy": "2024-08-28T23:51:57.156060Z",
     "iopub.status.idle": "2024-08-28T23:51:57.172166Z",
     "shell.execute_reply": "2024-08-28T23:51:57.171205Z"
    },
    "papermill": {
     "duration": 0.029393,
     "end_time": "2024-08-28T23:51:57.174199",
     "exception": false,
     "start_time": "2024-08-28T23:51:57.144806",
     "status": "completed"
    },
    "tags": []
   },
   "outputs": [],
   "source": [
    "#Adapt the new data to the current data\n",
    "mush_X.columns = mush_X.columns.str.replace('stalk', 'stem', regex=False)\n",
    "\n",
    "mush_X = mush_X.rename(columns={'bruises': 'does-bruise-or-bleed'})\n",
    "\n",
    "mapping_ring = {'n': 'f', 'o': 't', 't': 't'}\n",
    "mush_X['has-ring'] = mush_X['ring-number'].map(mapping_ring)\n",
    "mush_X = mush_X.drop('ring-number', axis=1)\n",
    "\n",
    "mush_X['class'] = mush_Y\n",
    "\n",
    "mush_X['id'] = range(3116945, 3116945+len(mush_X))\n",
    "\n",
    "mush_X = mush_X.drop(['odor', 'stem-shape', 'gill-size', 'stem-surface-above-ring', 'stem-surface-below-ring', 'stem-color-above-ring', \n",
    "                      'stem-color-below-ring', 'population'], axis=1)"
   ]
  },
  {
   "cell_type": "code",
   "execution_count": 20,
   "id": "7d561b52",
   "metadata": {
    "execution": {
     "iopub.execute_input": "2024-08-28T23:51:57.195608Z",
     "iopub.status.busy": "2024-08-28T23:51:57.194795Z",
     "iopub.status.idle": "2024-08-28T23:51:58.003390Z",
     "shell.execute_reply": "2024-08-28T23:51:58.002486Z"
    },
    "papermill": {
     "duration": 0.821747,
     "end_time": "2024-08-28T23:51:58.005800",
     "exception": false,
     "start_time": "2024-08-28T23:51:57.184053",
     "status": "completed"
    },
    "tags": []
   },
   "outputs": [],
   "source": [
    "#Concatenate the two data sets to get a bigger training data set\n",
    "big_train_df = pd.concat([train_df, mush_X], ignore_index=True)"
   ]
  },
  {
   "cell_type": "code",
   "execution_count": 21,
   "id": "6bf64ff3",
   "metadata": {
    "execution": {
     "iopub.execute_input": "2024-08-28T23:51:58.028053Z",
     "iopub.status.busy": "2024-08-28T23:51:58.027136Z",
     "iopub.status.idle": "2024-08-28T23:51:58.038000Z",
     "shell.execute_reply": "2024-08-28T23:51:58.036922Z"
    },
    "papermill": {
     "duration": 0.024253,
     "end_time": "2024-08-28T23:51:58.040330",
     "exception": false,
     "start_time": "2024-08-28T23:51:58.016077",
     "status": "completed"
    },
    "tags": []
   },
   "outputs": [
    {
     "name": "stdout",
     "output_type": "stream",
     "text": [
      "<class 'pandas.core.frame.DataFrame'>\n",
      "RangeIndex: 3125069 entries, 0 to 3125068\n",
      "Data columns (total 23 columns):\n",
      " #   Column                Dtype  \n",
      "---  ------                -----  \n",
      " 0   id                    int64  \n",
      " 1   class                 object \n",
      " 2   cap-diameter          float64\n",
      " 3   cap-shape             object \n",
      " 4   cap-surface           object \n",
      " 5   cap-color             object \n",
      " 6   does-bruise-or-bleed  object \n",
      " 7   gill-attachment       object \n",
      " 8   gill-spacing          object \n",
      " 9   gill-color            object \n",
      " 10  stem-height           float64\n",
      " 11  stem-width            float64\n",
      " 12  stem-root             object \n",
      " 13  stem-surface          object \n",
      " 14  stem-color            object \n",
      " 15  veil-type             object \n",
      " 16  veil-color            object \n",
      " 17  has-ring              object \n",
      " 18  ring-type             object \n",
      " 19  spore-print-color     object \n",
      " 20  habitat               object \n",
      " 21  season                object \n",
      " 22  stem-volume           float64\n",
      "dtypes: float64(4), int64(1), object(18)\n",
      "memory usage: 548.4+ MB\n"
     ]
    }
   ],
   "source": [
    "big_train_df.info()"
   ]
  },
  {
   "cell_type": "code",
   "execution_count": 22,
   "id": "3b2a657c",
   "metadata": {
    "execution": {
     "iopub.execute_input": "2024-08-28T23:51:58.062216Z",
     "iopub.status.busy": "2024-08-28T23:51:58.061624Z",
     "iopub.status.idle": "2024-08-28T23:52:00.369634Z",
     "shell.execute_reply": "2024-08-28T23:52:00.368603Z"
    },
    "papermill": {
     "duration": 2.321462,
     "end_time": "2024-08-28T23:52:00.371971",
     "exception": false,
     "start_time": "2024-08-28T23:51:58.050509",
     "status": "completed"
    },
    "tags": []
   },
   "outputs": [
    {
     "data": {
      "text/plain": [
       "id                            0\n",
       "class                         0\n",
       "cap-diameter               8124\n",
       "cap-shape                     0\n",
       "cap-surface              671088\n",
       "cap-color                     0\n",
       "does-bruise-or-bleed         12\n",
       "gill-attachment          523990\n",
       "gill-spacing            1258465\n",
       "gill-color                  120\n",
       "stem-height                8124\n",
       "stem-width                 8124\n",
       "stem-root               2759518\n",
       "stem-surface            1989030\n",
       "stem-color                 8199\n",
       "veil-type               2957496\n",
       "veil-color              2740950\n",
       "has-ring                     26\n",
       "ring-type                128904\n",
       "spore-print-color       2849693\n",
       "habitat                      81\n",
       "season                     8124\n",
       "stem-volume                8124\n",
       "dtype: int64"
      ]
     },
     "execution_count": 22,
     "metadata": {},
     "output_type": "execute_result"
    }
   ],
   "source": [
    "big_train_df.isna().sum()"
   ]
  },
  {
   "cell_type": "code",
   "execution_count": 23,
   "id": "a95f69be",
   "metadata": {
    "execution": {
     "iopub.execute_input": "2024-08-28T23:52:00.394532Z",
     "iopub.status.busy": "2024-08-28T23:52:00.393674Z",
     "iopub.status.idle": "2024-08-28T23:56:41.495474Z",
     "shell.execute_reply": "2024-08-28T23:56:41.494387Z"
    },
    "papermill": {
     "duration": 281.126318,
     "end_time": "2024-08-28T23:56:41.508745",
     "exception": false,
     "start_time": "2024-08-28T23:52:00.382427",
     "status": "completed"
    },
    "tags": []
   },
   "outputs": [
    {
     "name": "stdout",
     "output_type": "stream",
     "text": [
      "    train-auc-mean  train-auc-std  test-auc-mean  test-auc-std\n",
      "0         0.827531       0.000255       0.827447      0.000633\n",
      "1         0.875642       0.001970       0.875641      0.002134\n",
      "2         0.899531       0.004675       0.899506      0.004770\n",
      "3         0.911711       0.015219       0.911523      0.015528\n",
      "4         0.929060       0.009790       0.928925      0.009983\n",
      "..             ...            ...            ...           ...\n",
      "95        0.995866       0.000088       0.995808      0.000062\n",
      "96        0.995876       0.000084       0.995818      0.000057\n",
      "97        0.995885       0.000086       0.995827      0.000057\n",
      "98        0.995898       0.000088       0.995836      0.000051\n",
      "99        0.995907       0.000087       0.995845      0.000048\n",
      "\n",
      "[100 rows x 4 columns]\n",
      "Mean AUC: 0.9958448605208355\n"
     ]
    }
   ],
   "source": [
    "#Use an encoder to encode the training data and adapt them to the xgboost algorithm\n",
    "label_encoder = LabelEncoder()\n",
    "\n",
    "big_train_df = big_train_df.drop('id', axis=1)\n",
    "\n",
    "for column in big_train_df.select_dtypes(include=['object']).columns:\n",
    "    big_train_df[column] = label_encoder.fit_transform(big_train_df[column])\n",
    "\n",
    "X = big_train_df.drop('class', axis=1)\n",
    "y = big_train_df['class']\n",
    "\n",
    "dtrain = xgb.DMatrix(X, label=y)\n",
    "\n",
    "params = {\n",
    "    'objective': 'binary:logistic',\n",
    "    'max_depth': 6,\n",
    "    'learning_rate': 0.1,\n",
    "    'n_estimators': 100\n",
    "}\n",
    "\n",
    "cv_results = xgb.cv(dtrain=dtrain, params=params, nfold=5, num_boost_round=100, metrics=\"auc\", as_pandas=True, seed=42)\n",
    "\n",
    "print(cv_results)\n",
    "print(f\"Mean AUC: {cv_results['test-auc-mean'].iloc[-1]}\")"
   ]
  },
  {
   "cell_type": "code",
   "execution_count": 24,
   "id": "166a8908",
   "metadata": {
    "execution": {
     "iopub.execute_input": "2024-08-28T23:56:41.530763Z",
     "iopub.status.busy": "2024-08-28T23:56:41.530377Z",
     "iopub.status.idle": "2024-08-28T23:57:06.858837Z",
     "shell.execute_reply": "2024-08-28T23:57:06.857917Z"
    },
    "papermill": {
     "duration": 25.342405,
     "end_time": "2024-08-28T23:57:06.861323",
     "exception": false,
     "start_time": "2024-08-28T23:56:41.518918",
     "status": "completed"
    },
    "tags": []
   },
   "outputs": [],
   "source": [
    "#Get the best parameters for the model\n",
    "best_num_boost_rounds = cv_results['test-auc-mean'].idxmax()\n",
    "\n",
    "model = xgb.train(\n",
    "    params=params,\n",
    "    dtrain=dtrain,\n",
    "    num_boost_round=best_num_boost_rounds\n",
    ")"
   ]
  },
  {
   "cell_type": "code",
   "execution_count": 25,
   "id": "1dab52e8",
   "metadata": {
    "execution": {
     "iopub.execute_input": "2024-08-28T23:57:06.884095Z",
     "iopub.status.busy": "2024-08-28T23:57:06.883259Z",
     "iopub.status.idle": "2024-08-28T23:58:38.940124Z",
     "shell.execute_reply": "2024-08-28T23:58:38.938997Z"
    },
    "papermill": {
     "duration": 92.070874,
     "end_time": "2024-08-28T23:58:38.942897",
     "exception": false,
     "start_time": "2024-08-28T23:57:06.872023",
     "status": "completed"
    },
    "tags": []
   },
   "outputs": [],
   "source": [
    "#Adapt the test set to fit the xgboost expected formatting\n",
    "test_df['cap-diameter'] = test_df['cap-diameter'].fillna(test_df['cap-diameter'].median())\n",
    "\n",
    "for col in test_df.select_dtypes(include=['object']).columns:\n",
    "    #step 1: remove any words followed by a space and keep only the letter\n",
    "    test_df[col] = test_df[col].replace(r'^\\w+\\s([a-z])$', r'\\1', regex=True)\n",
    "\n",
    "    #step 2: replace any value that is not a single letter with NaN\n",
    "    test_df[col] = test_df[col].where(test_df[col].str.match(r'^[a-z]$'), np.nan)\n",
    "\n",
    "test_df['stem-volume'] = test_df['stem-height']*(test_df['stem-width']/2)\n",
    "\n",
    "fill_NA = test_df['cap-shape'].mode()[0]\n",
    "test_df['cap-shape'] = test_df['cap-shape'].fillna(fill_NA)\n",
    "\n",
    "#use the mode to fill values\n",
    "fill_NA = test_df['cap-color'].mode()[0]\n",
    "test_df['cap-color'] = test_df['cap-color'].fillna(fill_NA)\n",
    "\n",
    "for column in test_df.select_dtypes(include=['object']).columns:\n",
    "    test_df[column] = label_encoder.fit_transform(test_df[column])"
   ]
  },
  {
   "cell_type": "code",
   "execution_count": 26,
   "id": "074412d5",
   "metadata": {
    "execution": {
     "iopub.execute_input": "2024-08-28T23:58:38.965808Z",
     "iopub.status.busy": "2024-08-28T23:58:38.965402Z",
     "iopub.status.idle": "2024-08-28T23:58:38.976324Z",
     "shell.execute_reply": "2024-08-28T23:58:38.975330Z"
    },
    "papermill": {
     "duration": 0.02521,
     "end_time": "2024-08-28T23:58:38.978826",
     "exception": false,
     "start_time": "2024-08-28T23:58:38.953616",
     "status": "completed"
    },
    "tags": []
   },
   "outputs": [
    {
     "name": "stdout",
     "output_type": "stream",
     "text": [
      "<class 'pandas.core.frame.DataFrame'>\n",
      "RangeIndex: 2077964 entries, 0 to 2077963\n",
      "Data columns (total 22 columns):\n",
      " #   Column                Dtype  \n",
      "---  ------                -----  \n",
      " 0   id                    int64  \n",
      " 1   cap-diameter          float64\n",
      " 2   cap-shape             int64  \n",
      " 3   cap-surface           int64  \n",
      " 4   cap-color             int64  \n",
      " 5   does-bruise-or-bleed  int64  \n",
      " 6   gill-attachment       int64  \n",
      " 7   gill-spacing          int64  \n",
      " 8   gill-color            int64  \n",
      " 9   stem-height           float64\n",
      " 10  stem-width            float64\n",
      " 11  stem-root             int64  \n",
      " 12  stem-surface          int64  \n",
      " 13  stem-color            int64  \n",
      " 14  veil-type             int64  \n",
      " 15  veil-color            int64  \n",
      " 16  has-ring              int64  \n",
      " 17  ring-type             int64  \n",
      " 18  spore-print-color     int64  \n",
      " 19  habitat               int64  \n",
      " 20  season                int64  \n",
      " 21  stem-volume           float64\n",
      "dtypes: float64(4), int64(18)\n",
      "memory usage: 348.8 MB\n"
     ]
    }
   ],
   "source": [
    "test_df.info()"
   ]
  },
  {
   "cell_type": "code",
   "execution_count": 27,
   "id": "5f8feca3",
   "metadata": {
    "execution": {
     "iopub.execute_input": "2024-08-28T23:58:39.001089Z",
     "iopub.status.busy": "2024-08-28T23:58:39.000725Z",
     "iopub.status.idle": "2024-08-28T23:58:39.005826Z",
     "shell.execute_reply": "2024-08-28T23:58:39.004901Z"
    },
    "papermill": {
     "duration": 0.018597,
     "end_time": "2024-08-28T23:58:39.007865",
     "exception": false,
     "start_time": "2024-08-28T23:58:38.989268",
     "status": "completed"
    },
    "tags": []
   },
   "outputs": [],
   "source": [
    "for column in test_df.select_dtypes(include=['object']).columns:\n",
    "    test_df[column] = label_encoder.fit_transform(test_df[column])"
   ]
  },
  {
   "cell_type": "code",
   "execution_count": 28,
   "id": "650a81f3",
   "metadata": {
    "execution": {
     "iopub.execute_input": "2024-08-28T23:58:39.030073Z",
     "iopub.status.busy": "2024-08-28T23:58:39.029707Z",
     "iopub.status.idle": "2024-08-28T23:58:47.178158Z",
     "shell.execute_reply": "2024-08-28T23:58:47.177267Z"
    },
    "papermill": {
     "duration": 8.162315,
     "end_time": "2024-08-28T23:58:47.180591",
     "exception": false,
     "start_time": "2024-08-28T23:58:39.018276",
     "status": "completed"
    },
    "tags": []
   },
   "outputs": [],
   "source": [
    "#Make the final prediction\n",
    "test = test_df.drop('id', axis=1)\n",
    "\n",
    "data_dmatrix_test = xgb.DMatrix(data=test)\n",
    "\n",
    "predictions = model.predict(data_dmatrix_test)\n",
    "\n",
    "predictions = [0 if pred >= 0.5 else 1 for pred in predictions]\n",
    "\n",
    "predictions = ['e' if pred == 1 else 'p' for pred in predictions]\n",
    "\n",
    "submission_df = pd.DataFrame({'id' : test_df['id'], 'class' : predictions})\n",
    "submission_df.to_csv('submission.csv', index=False)"
   ]
  }
 ],
 "metadata": {
  "kaggle": {
   "accelerator": "none",
   "dataSources": [
    {
     "databundleVersionId": 9045607,
     "sourceId": 76727,
     "sourceType": "competition"
    }
   ],
   "dockerImageVersionId": 30761,
   "isGpuEnabled": false,
   "isInternetEnabled": true,
   "language": "python",
   "sourceType": "notebook"
  },
  "kernelspec": {
   "display_name": "Python 3 (ipykernel)",
   "language": "python",
   "name": "python3"
  },
  "language_info": {
   "codemirror_mode": {
    "name": "ipython",
    "version": 3
   },
   "file_extension": ".py",
   "mimetype": "text/x-python",
   "name": "python",
   "nbconvert_exporter": "python",
   "pygments_lexer": "ipython3",
   "version": "3.11.5"
  },
  "papermill": {
   "default_parameters": {},
   "duration": 571.085945,
   "end_time": "2024-08-28T23:58:48.513389",
   "environment_variables": {},
   "exception": null,
   "input_path": "__notebook__.ipynb",
   "output_path": "__notebook__.ipynb",
   "parameters": {},
   "start_time": "2024-08-28T23:49:17.427444",
   "version": "2.6.0"
  }
 },
 "nbformat": 4,
 "nbformat_minor": 5
}
